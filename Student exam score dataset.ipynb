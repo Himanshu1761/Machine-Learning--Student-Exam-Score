{
 "cells": [
  {
   "cell_type": "markdown",
   "id": "78677ab4-8e21-412c-b5b0-6d5977319593",
   "metadata": {},
   "source": [
    "# Student exam score dataset"
   ]
  },
  {
   "cell_type": "code",
   "execution_count": null,
   "id": "ebcff488-1b80-4212-b599-efdf6f7c25b4",
   "metadata": {},
   "outputs": [],
   "source": [
    "Marks Range \tGrade\tGrade Point\n",
    "91-100\t        A1\t         10.0\n",
    "81-90\t        A2\t         9.0\n",
    "71-80\t        B1\t         8.0\n",
    "61-70\t        B2\t         7.0\n",
    "51-60\t        C1\t         6.0\n",
    "41-50\t        C2\t         5.0\n",
    "33-40\t        D\t         4.0\n",
    "21-32\t        E1\t         0.0\n",
    "00-20\t        E2\t         0.0"
   ]
  },
  {
   "cell_type": "code",
   "execution_count": 2,
   "id": "dc7c5e3e-5e87-43b2-baec-1a6b09ea9a03",
   "metadata": {},
   "outputs": [],
   "source": [
    "import numpy as np\n",
    "import pandas as pd\n",
    "import matplotlib.pyplot as plt\n",
    "import seaborn as sns\n",
    "import warnings\n",
    "warnings.filterwarnings('ignore')"
   ]
  },
  {
   "cell_type": "code",
   "execution_count": 3,
   "id": "a38179b1-de72-4290-9813-04037530019b",
   "metadata": {},
   "outputs": [],
   "source": [
    "data=pd.read_csv('student_exam_scores.csv')"
   ]
  },
  {
   "cell_type": "code",
   "execution_count": 8,
   "id": "962e1715-dd04-4f20-8c11-ec0fbbb4478b",
   "metadata": {},
   "outputs": [],
   "source": [
    "df=pd.DataFrame(data)"
   ]
  },
  {
   "cell_type": "code",
   "execution_count": 9,
   "id": "21636456-1c71-4a12-b161-ab771bffef81",
   "metadata": {},
   "outputs": [],
   "source": [
    "df_copy=df.copy()"
   ]
  },
  {
   "cell_type": "code",
   "execution_count": 11,
   "id": "015d7532-4e2b-40a8-92d9-0a6c5348aade",
   "metadata": {},
   "outputs": [
    {
     "data": {
      "text/html": [
       "<div>\n",
       "<style scoped>\n",
       "    .dataframe tbody tr th:only-of-type {\n",
       "        vertical-align: middle;\n",
       "    }\n",
       "\n",
       "    .dataframe tbody tr th {\n",
       "        vertical-align: top;\n",
       "    }\n",
       "\n",
       "    .dataframe thead th {\n",
       "        text-align: right;\n",
       "    }\n",
       "</style>\n",
       "<table border=\"1\" class=\"dataframe\">\n",
       "  <thead>\n",
       "    <tr style=\"text-align: right;\">\n",
       "      <th></th>\n",
       "      <th>student_id</th>\n",
       "      <th>hours_studied</th>\n",
       "      <th>sleep_hours</th>\n",
       "      <th>attendance_percent</th>\n",
       "      <th>previous_scores</th>\n",
       "      <th>exam_score</th>\n",
       "    </tr>\n",
       "  </thead>\n",
       "  <tbody>\n",
       "    <tr>\n",
       "      <th>0</th>\n",
       "      <td>S001</td>\n",
       "      <td>8.0</td>\n",
       "      <td>8.8</td>\n",
       "      <td>72.1</td>\n",
       "      <td>45</td>\n",
       "      <td>30.2</td>\n",
       "    </tr>\n",
       "    <tr>\n",
       "      <th>1</th>\n",
       "      <td>S002</td>\n",
       "      <td>1.3</td>\n",
       "      <td>8.6</td>\n",
       "      <td>60.7</td>\n",
       "      <td>55</td>\n",
       "      <td>25.0</td>\n",
       "    </tr>\n",
       "    <tr>\n",
       "      <th>2</th>\n",
       "      <td>S003</td>\n",
       "      <td>4.0</td>\n",
       "      <td>8.2</td>\n",
       "      <td>73.7</td>\n",
       "      <td>86</td>\n",
       "      <td>35.8</td>\n",
       "    </tr>\n",
       "    <tr>\n",
       "      <th>3</th>\n",
       "      <td>S004</td>\n",
       "      <td>3.5</td>\n",
       "      <td>4.8</td>\n",
       "      <td>95.1</td>\n",
       "      <td>66</td>\n",
       "      <td>34.0</td>\n",
       "    </tr>\n",
       "    <tr>\n",
       "      <th>4</th>\n",
       "      <td>S005</td>\n",
       "      <td>9.1</td>\n",
       "      <td>6.4</td>\n",
       "      <td>89.8</td>\n",
       "      <td>71</td>\n",
       "      <td>40.3</td>\n",
       "    </tr>\n",
       "  </tbody>\n",
       "</table>\n",
       "</div>"
      ],
      "text/plain": [
       "  student_id  hours_studied  sleep_hours  attendance_percent  previous_scores  \\\n",
       "0       S001            8.0          8.8                72.1               45   \n",
       "1       S002            1.3          8.6                60.7               55   \n",
       "2       S003            4.0          8.2                73.7               86   \n",
       "3       S004            3.5          4.8                95.1               66   \n",
       "4       S005            9.1          6.4                89.8               71   \n",
       "\n",
       "   exam_score  \n",
       "0        30.2  \n",
       "1        25.0  \n",
       "2        35.8  \n",
       "3        34.0  \n",
       "4        40.3  "
      ]
     },
     "execution_count": 11,
     "metadata": {},
     "output_type": "execute_result"
    }
   ],
   "source": [
    "df.head(5)"
   ]
  },
  {
   "cell_type": "code",
   "execution_count": 14,
   "id": "d7829c60-6448-4cf4-aefc-1ba117273e14",
   "metadata": {},
   "outputs": [
    {
     "data": {
      "text/plain": [
       "(200, 6)"
      ]
     },
     "execution_count": 14,
     "metadata": {},
     "output_type": "execute_result"
    }
   ],
   "source": [
    "df.shape"
   ]
  },
  {
   "cell_type": "code",
   "execution_count": 17,
   "id": "9b52511b-34b6-4a4c-a5d3-536d02cd149b",
   "metadata": {},
   "outputs": [
    {
     "data": {
      "text/html": [
       "<div>\n",
       "<style scoped>\n",
       "    .dataframe tbody tr th:only-of-type {\n",
       "        vertical-align: middle;\n",
       "    }\n",
       "\n",
       "    .dataframe tbody tr th {\n",
       "        vertical-align: top;\n",
       "    }\n",
       "\n",
       "    .dataframe thead th {\n",
       "        text-align: right;\n",
       "    }\n",
       "</style>\n",
       "<table border=\"1\" class=\"dataframe\">\n",
       "  <thead>\n",
       "    <tr style=\"text-align: right;\">\n",
       "      <th></th>\n",
       "      <th>hours_studied</th>\n",
       "      <th>sleep_hours</th>\n",
       "      <th>attendance_percent</th>\n",
       "      <th>previous_scores</th>\n",
       "      <th>exam_score</th>\n",
       "    </tr>\n",
       "  </thead>\n",
       "  <tbody>\n",
       "    <tr>\n",
       "      <th>count</th>\n",
       "      <td>200.000000</td>\n",
       "      <td>200.000000</td>\n",
       "      <td>200.000000</td>\n",
       "      <td>200.000000</td>\n",
       "      <td>200.000000</td>\n",
       "    </tr>\n",
       "    <tr>\n",
       "      <th>mean</th>\n",
       "      <td>6.325500</td>\n",
       "      <td>6.622000</td>\n",
       "      <td>74.830000</td>\n",
       "      <td>66.800000</td>\n",
       "      <td>33.955000</td>\n",
       "    </tr>\n",
       "    <tr>\n",
       "      <th>std</th>\n",
       "      <td>3.227317</td>\n",
       "      <td>1.497138</td>\n",
       "      <td>14.249905</td>\n",
       "      <td>15.663869</td>\n",
       "      <td>6.789548</td>\n",
       "    </tr>\n",
       "    <tr>\n",
       "      <th>min</th>\n",
       "      <td>1.000000</td>\n",
       "      <td>4.000000</td>\n",
       "      <td>50.300000</td>\n",
       "      <td>40.000000</td>\n",
       "      <td>17.100000</td>\n",
       "    </tr>\n",
       "    <tr>\n",
       "      <th>25%</th>\n",
       "      <td>3.500000</td>\n",
       "      <td>5.300000</td>\n",
       "      <td>62.200000</td>\n",
       "      <td>54.000000</td>\n",
       "      <td>29.500000</td>\n",
       "    </tr>\n",
       "    <tr>\n",
       "      <th>50%</th>\n",
       "      <td>6.150000</td>\n",
       "      <td>6.700000</td>\n",
       "      <td>75.250000</td>\n",
       "      <td>67.500000</td>\n",
       "      <td>34.050000</td>\n",
       "    </tr>\n",
       "    <tr>\n",
       "      <th>75%</th>\n",
       "      <td>9.000000</td>\n",
       "      <td>8.025000</td>\n",
       "      <td>87.425000</td>\n",
       "      <td>80.000000</td>\n",
       "      <td>38.750000</td>\n",
       "    </tr>\n",
       "    <tr>\n",
       "      <th>max</th>\n",
       "      <td>12.000000</td>\n",
       "      <td>9.000000</td>\n",
       "      <td>100.000000</td>\n",
       "      <td>95.000000</td>\n",
       "      <td>51.300000</td>\n",
       "    </tr>\n",
       "  </tbody>\n",
       "</table>\n",
       "</div>"
      ],
      "text/plain": [
       "       hours_studied  sleep_hours  attendance_percent  previous_scores  \\\n",
       "count     200.000000   200.000000          200.000000       200.000000   \n",
       "mean        6.325500     6.622000           74.830000        66.800000   \n",
       "std         3.227317     1.497138           14.249905        15.663869   \n",
       "min         1.000000     4.000000           50.300000        40.000000   \n",
       "25%         3.500000     5.300000           62.200000        54.000000   \n",
       "50%         6.150000     6.700000           75.250000        67.500000   \n",
       "75%         9.000000     8.025000           87.425000        80.000000   \n",
       "max        12.000000     9.000000          100.000000        95.000000   \n",
       "\n",
       "       exam_score  \n",
       "count  200.000000  \n",
       "mean    33.955000  \n",
       "std      6.789548  \n",
       "min     17.100000  \n",
       "25%     29.500000  \n",
       "50%     34.050000  \n",
       "75%     38.750000  \n",
       "max     51.300000  "
      ]
     },
     "execution_count": 17,
     "metadata": {},
     "output_type": "execute_result"
    }
   ],
   "source": [
    "df.describe()"
   ]
  },
  {
   "cell_type": "code",
   "execution_count": 19,
   "id": "252173f3-3389-47ca-bb88-8481d11ce9bd",
   "metadata": {},
   "outputs": [
    {
     "data": {
      "text/plain": [
       "student_id            0\n",
       "hours_studied         0\n",
       "sleep_hours           0\n",
       "attendance_percent    0\n",
       "previous_scores       0\n",
       "exam_score            0\n",
       "dtype: int64"
      ]
     },
     "execution_count": 19,
     "metadata": {},
     "output_type": "execute_result"
    }
   ],
   "source": [
    "df.isnull().sum()"
   ]
  },
  {
   "cell_type": "code",
   "execution_count": 21,
   "id": "f9920726-319c-43e7-b32c-960a8eb1ecff",
   "metadata": {},
   "outputs": [
    {
     "data": {
      "text/html": [
       "<div>\n",
       "<style scoped>\n",
       "    .dataframe tbody tr th:only-of-type {\n",
       "        vertical-align: middle;\n",
       "    }\n",
       "\n",
       "    .dataframe tbody tr th {\n",
       "        vertical-align: top;\n",
       "    }\n",
       "\n",
       "    .dataframe thead th {\n",
       "        text-align: right;\n",
       "    }\n",
       "</style>\n",
       "<table border=\"1\" class=\"dataframe\">\n",
       "  <thead>\n",
       "    <tr style=\"text-align: right;\">\n",
       "      <th></th>\n",
       "      <th>student_id</th>\n",
       "      <th>hours_studied</th>\n",
       "      <th>sleep_hours</th>\n",
       "      <th>attendance_percent</th>\n",
       "      <th>previous_scores</th>\n",
       "      <th>exam_score</th>\n",
       "    </tr>\n",
       "  </thead>\n",
       "  <tbody>\n",
       "    <tr>\n",
       "      <th>0</th>\n",
       "      <td>S001</td>\n",
       "      <td>8.0</td>\n",
       "      <td>8.8</td>\n",
       "      <td>72.1</td>\n",
       "      <td>45</td>\n",
       "      <td>30.2</td>\n",
       "    </tr>\n",
       "    <tr>\n",
       "      <th>1</th>\n",
       "      <td>S002</td>\n",
       "      <td>1.3</td>\n",
       "      <td>8.6</td>\n",
       "      <td>60.7</td>\n",
       "      <td>55</td>\n",
       "      <td>25.0</td>\n",
       "    </tr>\n",
       "    <tr>\n",
       "      <th>2</th>\n",
       "      <td>S003</td>\n",
       "      <td>4.0</td>\n",
       "      <td>8.2</td>\n",
       "      <td>73.7</td>\n",
       "      <td>86</td>\n",
       "      <td>35.8</td>\n",
       "    </tr>\n",
       "    <tr>\n",
       "      <th>3</th>\n",
       "      <td>S004</td>\n",
       "      <td>3.5</td>\n",
       "      <td>4.8</td>\n",
       "      <td>95.1</td>\n",
       "      <td>66</td>\n",
       "      <td>34.0</td>\n",
       "    </tr>\n",
       "    <tr>\n",
       "      <th>4</th>\n",
       "      <td>S005</td>\n",
       "      <td>9.1</td>\n",
       "      <td>6.4</td>\n",
       "      <td>89.8</td>\n",
       "      <td>71</td>\n",
       "      <td>40.3</td>\n",
       "    </tr>\n",
       "  </tbody>\n",
       "</table>\n",
       "</div>"
      ],
      "text/plain": [
       "  student_id  hours_studied  sleep_hours  attendance_percent  previous_scores  \\\n",
       "0       S001            8.0          8.8                72.1               45   \n",
       "1       S002            1.3          8.6                60.7               55   \n",
       "2       S003            4.0          8.2                73.7               86   \n",
       "3       S004            3.5          4.8                95.1               66   \n",
       "4       S005            9.1          6.4                89.8               71   \n",
       "\n",
       "   exam_score  \n",
       "0        30.2  \n",
       "1        25.0  \n",
       "2        35.8  \n",
       "3        34.0  \n",
       "4        40.3  "
      ]
     },
     "execution_count": 21,
     "metadata": {},
     "output_type": "execute_result"
    }
   ],
   "source": [
    "df.head(5)"
   ]
  },
  {
   "cell_type": "code",
   "execution_count": 23,
   "id": "f0d95a75-9acd-4ed5-aba8-eae7abdc42f8",
   "metadata": {},
   "outputs": [
    {
     "data": {
      "text/plain": [
       "3.9     7\n",
       "3.5     6\n",
       "10.5    5\n",
       "3.4     5\n",
       "8.1     4\n",
       "       ..\n",
       "1.7     1\n",
       "8.9     1\n",
       "7.6     1\n",
       "6.5     1\n",
       "10.2    1\n",
       "Name: hours_studied, Length: 96, dtype: int64"
      ]
     },
     "execution_count": 23,
     "metadata": {},
     "output_type": "execute_result"
    }
   ],
   "source": [
    "df['hours_studied'].value_counts()"
   ]
  },
  {
   "cell_type": "code",
   "execution_count": 277,
   "id": "f1770a68-d398-4270-882b-bbf411af7e28",
   "metadata": {},
   "outputs": [
    {
     "data": {
      "text/plain": [
       "<AxesSubplot:>"
      ]
     },
     "execution_count": 277,
     "metadata": {},
     "output_type": "execute_result"
    },
    {
     "data": {
      "image/png": "[encoded data removed]",
      "text/plain": [
       "<Figure size 432x288 with 2 Axes>"
      ]
     },
     "metadata": {
      "needs_background": "light"
     },
     "output_type": "display_data"
    }
   ],
   "source": [
    "sns.heatmap(df.cov(), annot=True, cmap='coolwarm')"
   ]
  },
  {
   "cell_type": "markdown",
   "id": "88368459-4621-4c81-b915-4b22cfb1789e",
   "metadata": {},
   "source": [
    "# FEATURE ENGINEERING"
   ]
  },
  {
   "cell_type": "code",
   "execution_count": 25,
   "id": "5c52efe4-7bbc-4069-87cf-576bde29921a",
   "metadata": {},
   "outputs": [
    {
     "data": {
      "text/plain": [
       "count    200.000000\n",
       "mean       6.325500\n",
       "std        3.227317\n",
       "min        1.000000\n",
       "25%        3.500000\n",
       "50%        6.150000\n",
       "75%        9.000000\n",
       "max       12.000000\n",
       "Name: hours_studied, dtype: float64"
      ]
     },
     "execution_count": 25,
     "metadata": {},
     "output_type": "execute_result"
    }
   ],
   "source": [
    "df['hours_studied'].describe()"
   ]
  },
  {
   "cell_type": "code",
   "execution_count": 31,
   "id": "9b7b760f-b2be-40de-9e8d-29db0fa560b1",
   "metadata": {},
   "outputs": [],
   "source": [
    "hours=[1,3,6,9,12]\n",
    "hours_label=['1 to 3 hours','4 to 6 hours', '7 to 9 hours','10 to 12 hours']\n",
    "df['hours_study']=pd.cut(df['hours_studied'],hours,labels=hours_label,include_lowest=True)"
   ]
  },
  {
   "cell_type": "code",
   "execution_count": 35,
   "id": "6d039cfe-8efb-4d45-a34e-c08e7859d1d4",
   "metadata": {},
   "outputs": [
    {
     "data": {
      "text/plain": [
       "4 to 6 hours      64\n",
       "7 to 9 hours      52\n",
       "10 to 12 hours    49\n",
       "1 to 3 hours      35\n",
       "Name: hours_study, dtype: int64"
      ]
     },
     "execution_count": 35,
     "metadata": {},
     "output_type": "execute_result"
    }
   ],
   "source": [
    "df['hours_study'].value_counts()"
   ]
  },
  {
   "cell_type": "code",
   "execution_count": 38,
   "id": "99b85c59-21ad-4365-ac3d-d60352f17f95",
   "metadata": {},
   "outputs": [],
   "source": [
    "sleep=[4,5,7,9]\n",
    "sleep_label=['4 to 5 hours', '6 to 7 hours', 'More than 7 hours']\n"
   ]
  },
  {
   "cell_type": "code",
   "execution_count": 39,
   "id": "a6862bf7-e669-46f7-8d34-f499093472ce",
   "metadata": {},
   "outputs": [],
   "source": [
    "df['sleep_pattern']=pd.cut(df['sleep_hours'],sleep,labels=sleep_label,include_lowest=True)"
   ]
  },
  {
   "cell_type": "code",
   "execution_count": 41,
   "id": "04fa972e-62ba-4f3d-a0f3-57482ffaa957",
   "metadata": {},
   "outputs": [
    {
     "data": {
      "text/plain": [
       "More than 7 hours    42.5\n",
       "6 to 7 hours         39.5\n",
       "4 to 5 hours         18.0\n",
       "Name: sleep_pattern, dtype: float64"
      ]
     },
     "execution_count": 41,
     "metadata": {},
     "output_type": "execute_result"
    }
   ],
   "source": [
    "df['sleep_pattern'].value_counts(normalize=True)*100"
   ]
  },
  {
   "cell_type": "code",
   "execution_count": 46,
   "id": "91d66fc9-ed78-4fbb-848f-b581b48c66ac",
   "metadata": {},
   "outputs": [
    {
     "data": {
      "text/html": [
       "<div>\n",
       "<style scoped>\n",
       "    .dataframe tbody tr th:only-of-type {\n",
       "        vertical-align: middle;\n",
       "    }\n",
       "\n",
       "    .dataframe tbody tr th {\n",
       "        vertical-align: top;\n",
       "    }\n",
       "\n",
       "    .dataframe thead th {\n",
       "        text-align: right;\n",
       "    }\n",
       "</style>\n",
       "<table border=\"1\" class=\"dataframe\">\n",
       "  <thead>\n",
       "    <tr style=\"text-align: right;\">\n",
       "      <th></th>\n",
       "      <th>student_id</th>\n",
       "      <th>hours_studied</th>\n",
       "      <th>sleep_hours</th>\n",
       "      <th>attendance_percent</th>\n",
       "      <th>previous_scores</th>\n",
       "      <th>exam_score</th>\n",
       "      <th>hours_study</th>\n",
       "      <th>sleep_pattern</th>\n",
       "    </tr>\n",
       "  </thead>\n",
       "  <tbody>\n",
       "    <tr>\n",
       "      <th>0</th>\n",
       "      <td>S001</td>\n",
       "      <td>8.0</td>\n",
       "      <td>8.8</td>\n",
       "      <td>72.1</td>\n",
       "      <td>45</td>\n",
       "      <td>30.2</td>\n",
       "      <td>7 to 9 hours</td>\n",
       "      <td>More than 7 hours</td>\n",
       "    </tr>\n",
       "    <tr>\n",
       "      <th>1</th>\n",
       "      <td>S002</td>\n",
       "      <td>1.3</td>\n",
       "      <td>8.6</td>\n",
       "      <td>60.7</td>\n",
       "      <td>55</td>\n",
       "      <td>25.0</td>\n",
       "      <td>1 to 3 hours</td>\n",
       "      <td>More than 7 hours</td>\n",
       "    </tr>\n",
       "    <tr>\n",
       "      <th>2</th>\n",
       "      <td>S003</td>\n",
       "      <td>4.0</td>\n",
       "      <td>8.2</td>\n",
       "      <td>73.7</td>\n",
       "      <td>86</td>\n",
       "      <td>35.8</td>\n",
       "      <td>4 to 6 hours</td>\n",
       "      <td>More than 7 hours</td>\n",
       "    </tr>\n",
       "    <tr>\n",
       "      <th>3</th>\n",
       "      <td>S004</td>\n",
       "      <td>3.5</td>\n",
       "      <td>4.8</td>\n",
       "      <td>95.1</td>\n",
       "      <td>66</td>\n",
       "      <td>34.0</td>\n",
       "      <td>4 to 6 hours</td>\n",
       "      <td>4 to 5 hours</td>\n",
       "    </tr>\n",
       "    <tr>\n",
       "      <th>4</th>\n",
       "      <td>S005</td>\n",
       "      <td>9.1</td>\n",
       "      <td>6.4</td>\n",
       "      <td>89.8</td>\n",
       "      <td>71</td>\n",
       "      <td>40.3</td>\n",
       "      <td>10 to 12 hours</td>\n",
       "      <td>6 to 7 hours</td>\n",
       "    </tr>\n",
       "  </tbody>\n",
       "</table>\n",
       "</div>"
      ],
      "text/plain": [
       "  student_id  hours_studied  sleep_hours  attendance_percent  previous_scores  \\\n",
       "0       S001            8.0          8.8                72.1               45   \n",
       "1       S002            1.3          8.6                60.7               55   \n",
       "2       S003            4.0          8.2                73.7               86   \n",
       "3       S004            3.5          4.8                95.1               66   \n",
       "4       S005            9.1          6.4                89.8               71   \n",
       "\n",
       "   exam_score     hours_study      sleep_pattern  \n",
       "0        30.2    7 to 9 hours  More than 7 hours  \n",
       "1        25.0    1 to 3 hours  More than 7 hours  \n",
       "2        35.8    4 to 6 hours  More than 7 hours  \n",
       "3        34.0    4 to 6 hours       4 to 5 hours  \n",
       "4        40.3  10 to 12 hours       6 to 7 hours  "
      ]
     },
     "execution_count": 46,
     "metadata": {},
     "output_type": "execute_result"
    }
   ],
   "source": [
    "df.head(5)"
   ]
  },
  {
   "cell_type": "code",
   "execution_count": 44,
   "id": "977794ed-2f6c-4201-a1d2-7d8358794bd8",
   "metadata": {},
   "outputs": [
    {
     "data": {
      "text/plain": [
       "count    200.000000\n",
       "mean      66.800000\n",
       "std       15.663869\n",
       "min       40.000000\n",
       "25%       54.000000\n",
       "50%       67.500000\n",
       "75%       80.000000\n",
       "max       95.000000\n",
       "Name: previous_scores, dtype: float64"
      ]
     },
     "execution_count": 44,
     "metadata": {},
     "output_type": "execute_result"
    }
   ],
   "source": [
    "df['previous_scores'].describe()"
   ]
  },
  {
   "cell_type": "code",
   "execution_count": 45,
   "id": "b0b6bfa9-3b10-4110-ac59-930d758b8944",
   "metadata": {},
   "outputs": [
    {
     "data": {
      "text/plain": [
       "count    200.000000\n",
       "mean      33.955000\n",
       "std        6.789548\n",
       "min       17.100000\n",
       "25%       29.500000\n",
       "50%       34.050000\n",
       "75%       38.750000\n",
       "max       51.300000\n",
       "Name: exam_score, dtype: float64"
      ]
     },
     "execution_count": 45,
     "metadata": {},
     "output_type": "execute_result"
    }
   ],
   "source": [
    "df['exam_score'].describe()"
   ]
  },
  {
   "cell_type": "code",
   "execution_count": 47,
   "id": "0bd3591d-fb56-46f1-ad00-6a376a3a7995",
   "metadata": {},
   "outputs": [],
   "source": [
    "marks=[0,20,32,40,50,60,70,80,90,100]\n",
    "marks_label=['0 to 20: E2','21 to 32: E1', '33 to 40: D','41 to 50: C2','51 to 60: C1','61 to 70: B2','71 to 80: B1','81 to 90: A2','91 to 100: A1']\n",
    "\n",
    "df['previous_scores_range']=pd.cut(df['previous_scores'],marks,labels=marks_label, include_lowest=True)\n",
    "df['exam_range']=pd.cut(df['exam_score'],marks,labels=marks_label, include_lowest=True)\n",
    "\n"
   ]
  },
  {
   "cell_type": "markdown",
   "id": "8aad35bb-e1a4-4e4d-b606-43b2f4fe598e",
   "metadata": {},
   "source": [
    "# EXPLORATORY DATA ANALYSIS"
   ]
  },
  {
   "cell_type": "code",
   "execution_count": 48,
   "id": "2e802970-dac4-494f-abce-fa428cea34ed",
   "metadata": {},
   "outputs": [
    {
     "data": {
      "text/html": [
       "<div>\n",
       "<style scoped>\n",
       "    .dataframe tbody tr th:only-of-type {\n",
       "        vertical-align: middle;\n",
       "    }\n",
       "\n",
       "    .dataframe tbody tr th {\n",
       "        vertical-align: top;\n",
       "    }\n",
       "\n",
       "    .dataframe thead th {\n",
       "        text-align: right;\n",
       "    }\n",
       "</style>\n",
       "<table border=\"1\" class=\"dataframe\">\n",
       "  <thead>\n",
       "    <tr style=\"text-align: right;\">\n",
       "      <th></th>\n",
       "      <th>student_id</th>\n",
       "      <th>hours_studied</th>\n",
       "      <th>sleep_hours</th>\n",
       "      <th>attendance_percent</th>\n",
       "      <th>previous_scores</th>\n",
       "      <th>exam_score</th>\n",
       "      <th>hours_study</th>\n",
       "      <th>sleep_pattern</th>\n",
       "      <th>previous_scores_range</th>\n",
       "      <th>exam_range</th>\n",
       "    </tr>\n",
       "  </thead>\n",
       "  <tbody>\n",
       "    <tr>\n",
       "      <th>0</th>\n",
       "      <td>S001</td>\n",
       "      <td>8.0</td>\n",
       "      <td>8.8</td>\n",
       "      <td>72.1</td>\n",
       "      <td>45</td>\n",
       "      <td>30.2</td>\n",
       "      <td>7 to 9 hours</td>\n",
       "      <td>More than 7 hours</td>\n",
       "      <td>41 to 50: C2</td>\n",
       "      <td>21 to 32: E1</td>\n",
       "    </tr>\n",
       "    <tr>\n",
       "      <th>1</th>\n",
       "      <td>S002</td>\n",
       "      <td>1.3</td>\n",
       "      <td>8.6</td>\n",
       "      <td>60.7</td>\n",
       "      <td>55</td>\n",
       "      <td>25.0</td>\n",
       "      <td>1 to 3 hours</td>\n",
       "      <td>More than 7 hours</td>\n",
       "      <td>51 to 60: C1</td>\n",
       "      <td>21 to 32: E1</td>\n",
       "    </tr>\n",
       "    <tr>\n",
       "      <th>2</th>\n",
       "      <td>S003</td>\n",
       "      <td>4.0</td>\n",
       "      <td>8.2</td>\n",
       "      <td>73.7</td>\n",
       "      <td>86</td>\n",
       "      <td>35.8</td>\n",
       "      <td>4 to 6 hours</td>\n",
       "      <td>More than 7 hours</td>\n",
       "      <td>81 to 90: A2</td>\n",
       "      <td>33 to 40: D</td>\n",
       "    </tr>\n",
       "    <tr>\n",
       "      <th>3</th>\n",
       "      <td>S004</td>\n",
       "      <td>3.5</td>\n",
       "      <td>4.8</td>\n",
       "      <td>95.1</td>\n",
       "      <td>66</td>\n",
       "      <td>34.0</td>\n",
       "      <td>4 to 6 hours</td>\n",
       "      <td>4 to 5 hours</td>\n",
       "      <td>61 to 70: B2</td>\n",
       "      <td>33 to 40: D</td>\n",
       "    </tr>\n",
       "    <tr>\n",
       "      <th>4</th>\n",
       "      <td>S005</td>\n",
       "      <td>9.1</td>\n",
       "      <td>6.4</td>\n",
       "      <td>89.8</td>\n",
       "      <td>71</td>\n",
       "      <td>40.3</td>\n",
       "      <td>10 to 12 hours</td>\n",
       "      <td>6 to 7 hours</td>\n",
       "      <td>71 to 80: B1</td>\n",
       "      <td>41 to 50: C2</td>\n",
       "    </tr>\n",
       "  </tbody>\n",
       "</table>\n",
       "</div>"
      ],
      "text/plain": [
       "  student_id  hours_studied  sleep_hours  attendance_percent  previous_scores  \\\n",
       "0       S001            8.0          8.8                72.1               45   \n",
       "1       S002            1.3          8.6                60.7               55   \n",
       "2       S003            4.0          8.2                73.7               86   \n",
       "3       S004            3.5          4.8                95.1               66   \n",
       "4       S005            9.1          6.4                89.8               71   \n",
       "\n",
       "   exam_score     hours_study      sleep_pattern previous_scores_range  \\\n",
       "0        30.2    7 to 9 hours  More than 7 hours          41 to 50: C2   \n",
       "1        25.0    1 to 3 hours  More than 7 hours          51 to 60: C1   \n",
       "2        35.8    4 to 6 hours  More than 7 hours          81 to 90: A2   \n",
       "3        34.0    4 to 6 hours       4 to 5 hours          61 to 70: B2   \n",
       "4        40.3  10 to 12 hours       6 to 7 hours          71 to 80: B1   \n",
       "\n",
       "     exam_range  \n",
       "0  21 to 32: E1  \n",
       "1  21 to 32: E1  \n",
       "2   33 to 40: D  \n",
       "3   33 to 40: D  \n",
       "4  41 to 50: C2  "
      ]
     },
     "execution_count": 48,
     "metadata": {},
     "output_type": "execute_result"
    }
   ],
   "source": [
    "df.head(5)"
   ]
  },
  {
   "cell_type": "code",
   "execution_count": 121,
   "id": "12efbe60-c312-4709-a85f-aa2b913b925e",
   "metadata": {},
   "outputs": [
    {
     "data": {
      "image/png": "[encoded data removed]",
      "text/plain": [
       "<Figure size 720x432 with 1 Axes>"
      ]
     },
     "metadata": {},
     "output_type": "display_data"
    }
   ],
   "source": [
    "plt.figure(figsize=(10, 6))\n",
    "df['sleep_pattern'].value_counts(normalize=True).plot(kind='pie', autopct='%1.1f%%')\n",
    "plt.title('Sleep Pattern Distribution')\n",
    "plt.show()"
   ]
  },
  {
   "cell_type": "code",
   "execution_count": 137,
   "id": "f9cd78cf-27b1-4ba8-b609-c98bd458ffed",
   "metadata": {},
   "outputs": [
    {
     "data": {
      "image/png": "[encoded data removed]",
      "text/plain": [
       "<Figure size 720x432 with 1 Axes>"
      ]
     },
     "metadata": {
      "needs_background": "light"
     },
     "output_type": "display_data"
    }
   ],
   "source": [
    "plt.figure(figsize=(10,6))\n",
    "color=['green','yellow','blue','pink']\n",
    "hours_study=df['hours_study'].value_counts()\n",
    "hours_study.plot(kind='bar', color=color)\n",
    "plt.xlabel('Study Hours')\n",
    "plt.ylabel('Count')\n",
    "plt.title('No. of Hours Study')\n",
    "\n",
    "\n",
    "for i,val in enumerate(hours_study):\n",
    "    plt.text(i,val+1,str(val),ha='center')\n",
    "\n",
    "plt.show()\n"
   ]
  },
  {
   "cell_type": "code",
   "execution_count": 217,
   "id": "aac19103-3637-4f07-9344-2ca8f9534537",
   "metadata": {},
   "outputs": [
    {
     "data": {
      "image/png": "[encoded data removed]",
      "text/plain": [
       "<Figure size 720x432 with 1 Axes>"
      ]
     },
     "metadata": {
      "needs_background": "light"
     },
     "output_type": "display_data"
    }
   ],
   "source": [
    "plt.figure(figsize=(10, 6))\n",
    "color=['green','yellow','blue','pink']\n",
    "Previous_Scores_Range=df['previous_scores_range'].value_counts().sort_values(ascending=False)\n",
    "Previous_Scores_Range.plot(kind='bar',color=color)\n",
    "\n",
    "plt.title('Frequency of Previous Scores')\n",
    "plt.ylabel('Count')\n",
    "\n",
    "\n",
    "for i,val in enumerate(Previous_Scores_Range):\n",
    "    plt.text(i,val+1,str(val),ha='center')\n",
    "\n",
    "\n",
    "plt.show()"
   ]
  },
  {
   "cell_type": "code",
   "execution_count": 219,
   "id": "f445e182-8f4f-4433-a642-01c32676bc0a",
   "metadata": {},
   "outputs": [
    {
     "data": {
      "image/png": "[encoded data removed]",
      "text/plain": [
       "<Figure size 720x432 with 1 Axes>"
      ]
     },
     "metadata": {
      "needs_background": "light"
     },
     "output_type": "display_data"
    }
   ],
   "source": [
    "plt.figure(figsize=(10, 6))\n",
    "color=['green','yellow','blue','pink']\n",
    "Exam_Range=df['exam_range'].value_counts().sort_values(ascending=False)\n",
    "Exam_Range.plot(kind='bar',color=color)\n",
    "plt.title('Frequency of Exam Score')\n",
    "\n",
    "for i,val in enumerate(Exam_Range):\n",
    "    plt.text(i,val+1,str(val),ha='center')\n",
    "\n",
    "plt.show()"
   ]
  },
  {
   "cell_type": "code",
   "execution_count": 188,
   "id": "acbe1635-efa4-410b-ba3d-842c8f996f6b",
   "metadata": {},
   "outputs": [
    {
     "data": {
      "image/png": "[encoded data removed]",
      "text/plain": [
       "<Figure size 576x432 with 1 Axes>"
      ]
     },
     "metadata": {
      "needs_background": "light"
     },
     "output_type": "display_data"
    }
   ],
   "source": [
    "test_exam_result=[1,33,60]\n",
    "test_exam_result_labels=['Passed','Failed']\n",
    "df['exam_result']=pd.cut(df['exam_score'],test_exam_result,labels=test_exam_result_labels, include_lowest=True)\n",
    "\n",
    "plt.figure(figsize=(8, 6))\n",
    "color=['pink','red']\n",
    "exam_result=df['exam_result'].value_counts(normalize=True).mul(100)\n",
    "exam_result.plot(kind='bar',color=color)\n",
    "plt.title('Exam Score - Passed/Failed')\n",
    "plt.ylabel('Percentage')\n",
    "for i,val in enumerate(exam_result):\n",
    "    plt.text(i,val+1,f'{val:.1f}%',ha='center')\n",
    "\n",
    "plt.show()"
   ]
  },
  {
   "cell_type": "markdown",
   "id": "67f56426-d8b3-43a6-8648-7fd876289112",
   "metadata": {},
   "source": [
    "# Multi-variate Analysis"
   ]
  },
  {
   "cell_type": "code",
   "execution_count": 221,
   "id": "73e0808e-87bf-46ac-bd57-18c5399f5245",
   "metadata": {},
   "outputs": [
    {
     "data": {
      "text/plain": [
       "<Figure size 1080x432 with 0 Axes>"
      ]
     },
     "metadata": {},
     "output_type": "display_data"
    },
    {
     "data": {
      "image/png": "[encoded data removed]",
      "text/plain": [
       "<Figure size 432x288 with 1 Axes>"
      ]
     },
     "metadata": {
      "needs_background": "light"
     },
     "output_type": "display_data"
    }
   ],
   "source": [
    "plt.figure(figsize=(15, 6))\n",
    "sleep_vs_hours=pd.crosstab(df['sleep_pattern'],df['hours_study'],normalize=True).mul(100)\n",
    "sleep_vs_hours.plot(kind='bar')\n",
    "plt.title('Sleep Pattern vs Hours Studied')\n",
    "plt.show()\n"
   ]
  },
  {
   "cell_type": "code",
   "execution_count": 120,
   "id": "0ec06770-7004-4fc3-a16d-606155ca1ca8",
   "metadata": {},
   "outputs": [
    {
     "data": {
      "image/png": "[encoded data removed]",
      "text/plain": [
       "<Figure size 720x432 with 1 Axes>"
      ]
     },
     "metadata": {
      "needs_background": "light"
     },
     "output_type": "display_data"
    }
   ],
   "source": [
    "plt.figure(figsize=(10, 6))\n",
    "color=['yellow','green','red']\n",
    "attendance_vs_sleep_pattern=df[df['attendance_percent']>=75]['sleep_pattern'].value_counts(normalize=True).mul(100)\n",
    "attendance_vs_sleep_pattern.plot(kind='bar',color=color)\n",
    "plt.xlabel('Sleep Pattern')\n",
    "plt.ylabel('Percentage')\n",
    "plt.title('Attendance >=75 vs Sleep Patten')\n",
    "\n",
    "for i, val in enumerate(attendance_vs_sleep_pattern):\n",
    "    plt.text(i,val+1,f'{val:.1f}%', ha='center')\n",
    "plt.show()"
   ]
  },
  {
   "cell_type": "code",
   "execution_count": 152,
   "id": "266c3ae9-c8cc-4a39-9bc1-8fc1d3ad1d7f",
   "metadata": {},
   "outputs": [
    {
     "data": {
      "image/png": "[encoded data removed]",
      "text/plain": [
       "<Figure size 720x432 with 1 Axes>"
      ]
     },
     "metadata": {},
     "output_type": "display_data"
    }
   ],
   "source": [
    "plt.figure(figsize=(10, 6))\n",
    "attendance_vs_hours_study=df[df['attendance_percent']>=75]['hours_study'].value_counts(normalize=True).mul(100).sort_values(ascending=False)\n",
    "attendance_vs_hours_study.plot(kind='pie',autopct='%1.1f%%')\n",
    "plt.title('Attendance >=75 vs Hours Study')\n",
    "plt.show()"
   ]
  },
  {
   "cell_type": "code",
   "execution_count": 164,
   "id": "fb240ac8-a4f7-48ef-b4ea-146f03dc7a6c",
   "metadata": {},
   "outputs": [
    {
     "data": {
      "image/png": "[encoded data removed]",
      "text/plain": [
       "<Figure size 720x432 with 1 Axes>"
      ]
     },
     "metadata": {
      "needs_background": "light"
     },
     "output_type": "display_data"
    }
   ],
   "source": [
    "plt.figure(figsize=(10, 6))\n",
    "color=['green','yellow','blue','pink']\n",
    "attendance_vs_Previous_Score=df[df['attendance_percent']>=75]['previous_scores_range'].value_counts(normalize=True).mul(100).sort_values(ascending=False)\n",
    "attendance_vs_Previous_Score.plot(kind='bar', color=color)\n",
    "plt.title('Attendance >=75 vs Previous Score')\n",
    "\n",
    "for i,val in enumerate(attendance_vs_Previous_Score):\n",
    "    plt.text(i,val+1,f'{val:.1f}%',ha='center')\n",
    "    \n",
    "plt.show()"
   ]
  },
  {
   "cell_type": "code",
   "execution_count": 207,
   "id": "5c3464f1-5c31-4ee9-847a-a7e04791feb5",
   "metadata": {},
   "outputs": [
    {
     "data": {
      "text/html": [
       "<div>\n",
       "<style scoped>\n",
       "    .dataframe tbody tr th:only-of-type {\n",
       "        vertical-align: middle;\n",
       "    }\n",
       "\n",
       "    .dataframe tbody tr th {\n",
       "        vertical-align: top;\n",
       "    }\n",
       "\n",
       "    .dataframe thead th {\n",
       "        text-align: right;\n",
       "    }\n",
       "</style>\n",
       "<table border=\"1\" class=\"dataframe\">\n",
       "  <thead>\n",
       "    <tr style=\"text-align: right;\">\n",
       "      <th>exam_result</th>\n",
       "      <th>Passed</th>\n",
       "      <th>Failed</th>\n",
       "    </tr>\n",
       "    <tr>\n",
       "      <th>sleep_pattern</th>\n",
       "      <th></th>\n",
       "      <th></th>\n",
       "    </tr>\n",
       "  </thead>\n",
       "  <tbody>\n",
       "    <tr>\n",
       "      <th>4 to 5 hours</th>\n",
       "      <td>8.0</td>\n",
       "      <td>10.0</td>\n",
       "    </tr>\n",
       "    <tr>\n",
       "      <th>6 to 7 hours</th>\n",
       "      <td>20.5</td>\n",
       "      <td>19.0</td>\n",
       "    </tr>\n",
       "    <tr>\n",
       "      <th>More than 7 hours</th>\n",
       "      <td>17.5</td>\n",
       "      <td>25.0</td>\n",
       "    </tr>\n",
       "  </tbody>\n",
       "</table>\n",
       "</div>"
      ],
      "text/plain": [
       "exam_result        Passed  Failed\n",
       "sleep_pattern                    \n",
       "4 to 5 hours          8.0    10.0\n",
       "6 to 7 hours         20.5    19.0\n",
       "More than 7 hours    17.5    25.0"
      ]
     },
     "execution_count": 207,
     "metadata": {},
     "output_type": "execute_result"
    }
   ],
   "source": [
    "pd.crosstab(df['sleep_pattern'],df['exam_result'], normalize=True).mul(100)"
   ]
  },
  {
   "cell_type": "markdown",
   "id": "3e297b71-2f48-4940-8f63-074a5ce77a1b",
   "metadata": {},
   "source": [
    "# Model Building"
   ]
  },
  {
   "cell_type": "markdown",
   "id": "4db50bca-7f57-411b-b7d0-695cf1f238f9",
   "metadata": {},
   "source": [
    "## Based on the factors we are predicting the exam_score (DV)"
   ]
  },
  {
   "cell_type": "code",
   "execution_count": 197,
   "id": "db1e76d6-5901-4e36-837a-0e064380369f",
   "metadata": {},
   "outputs": [
    {
     "data": {
      "text/html": [
       "<div>\n",
       "<style scoped>\n",
       "    .dataframe tbody tr th:only-of-type {\n",
       "        vertical-align: middle;\n",
       "    }\n",
       "\n",
       "    .dataframe tbody tr th {\n",
       "        vertical-align: top;\n",
       "    }\n",
       "\n",
       "    .dataframe thead th {\n",
       "        text-align: right;\n",
       "    }\n",
       "</style>\n",
       "<table border=\"1\" class=\"dataframe\">\n",
       "  <thead>\n",
       "    <tr style=\"text-align: right;\">\n",
       "      <th></th>\n",
       "      <th>student_id</th>\n",
       "      <th>hours_studied</th>\n",
       "      <th>sleep_hours</th>\n",
       "      <th>attendance_percent</th>\n",
       "      <th>previous_scores</th>\n",
       "      <th>exam_score</th>\n",
       "      <th>hours_study</th>\n",
       "      <th>sleep_pattern</th>\n",
       "      <th>previous_scores_range</th>\n",
       "      <th>exam_range</th>\n",
       "      <th>exam_result</th>\n",
       "    </tr>\n",
       "  </thead>\n",
       "  <tbody>\n",
       "    <tr>\n",
       "      <th>0</th>\n",
       "      <td>S001</td>\n",
       "      <td>8.0</td>\n",
       "      <td>8.8</td>\n",
       "      <td>72.1</td>\n",
       "      <td>45</td>\n",
       "      <td>30.2</td>\n",
       "      <td>7 to 9 hours</td>\n",
       "      <td>More than 7 hours</td>\n",
       "      <td>41 to 50: C2</td>\n",
       "      <td>21 to 32: E1</td>\n",
       "      <td>Passed</td>\n",
       "    </tr>\n",
       "    <tr>\n",
       "      <th>1</th>\n",
       "      <td>S002</td>\n",
       "      <td>1.3</td>\n",
       "      <td>8.6</td>\n",
       "      <td>60.7</td>\n",
       "      <td>55</td>\n",
       "      <td>25.0</td>\n",
       "      <td>1 to 3 hours</td>\n",
       "      <td>More than 7 hours</td>\n",
       "      <td>51 to 60: C1</td>\n",
       "      <td>21 to 32: E1</td>\n",
       "      <td>Passed</td>\n",
       "    </tr>\n",
       "    <tr>\n",
       "      <th>2</th>\n",
       "      <td>S003</td>\n",
       "      <td>4.0</td>\n",
       "      <td>8.2</td>\n",
       "      <td>73.7</td>\n",
       "      <td>86</td>\n",
       "      <td>35.8</td>\n",
       "      <td>4 to 6 hours</td>\n",
       "      <td>More than 7 hours</td>\n",
       "      <td>81 to 90: A2</td>\n",
       "      <td>33 to 40: D</td>\n",
       "      <td>Failed</td>\n",
       "    </tr>\n",
       "    <tr>\n",
       "      <th>3</th>\n",
       "      <td>S004</td>\n",
       "      <td>3.5</td>\n",
       "      <td>4.8</td>\n",
       "      <td>95.1</td>\n",
       "      <td>66</td>\n",
       "      <td>34.0</td>\n",
       "      <td>4 to 6 hours</td>\n",
       "      <td>4 to 5 hours</td>\n",
       "      <td>61 to 70: B2</td>\n",
       "      <td>33 to 40: D</td>\n",
       "      <td>Failed</td>\n",
       "    </tr>\n",
       "    <tr>\n",
       "      <th>4</th>\n",
       "      <td>S005</td>\n",
       "      <td>9.1</td>\n",
       "      <td>6.4</td>\n",
       "      <td>89.8</td>\n",
       "      <td>71</td>\n",
       "      <td>40.3</td>\n",
       "      <td>10 to 12 hours</td>\n",
       "      <td>6 to 7 hours</td>\n",
       "      <td>71 to 80: B1</td>\n",
       "      <td>41 to 50: C2</td>\n",
       "      <td>Failed</td>\n",
       "    </tr>\n",
       "  </tbody>\n",
       "</table>\n",
       "</div>"
      ],
      "text/plain": [
       "  student_id  hours_studied  sleep_hours  attendance_percent  previous_scores  \\\n",
       "0       S001            8.0          8.8                72.1               45   \n",
       "1       S002            1.3          8.6                60.7               55   \n",
       "2       S003            4.0          8.2                73.7               86   \n",
       "3       S004            3.5          4.8                95.1               66   \n",
       "4       S005            9.1          6.4                89.8               71   \n",
       "\n",
       "   exam_score     hours_study      sleep_pattern previous_scores_range  \\\n",
       "0        30.2    7 to 9 hours  More than 7 hours          41 to 50: C2   \n",
       "1        25.0    1 to 3 hours  More than 7 hours          51 to 60: C1   \n",
       "2        35.8    4 to 6 hours  More than 7 hours          81 to 90: A2   \n",
       "3        34.0    4 to 6 hours       4 to 5 hours          61 to 70: B2   \n",
       "4        40.3  10 to 12 hours       6 to 7 hours          71 to 80: B1   \n",
       "\n",
       "     exam_range exam_result  \n",
       "0  21 to 32: E1      Passed  \n",
       "1  21 to 32: E1      Passed  \n",
       "2   33 to 40: D      Failed  \n",
       "3   33 to 40: D      Failed  \n",
       "4  41 to 50: C2      Failed  "
      ]
     },
     "execution_count": 197,
     "metadata": {},
     "output_type": "execute_result"
    }
   ],
   "source": [
    "df.head(5)"
   ]
  },
  {
   "cell_type": "code",
   "execution_count": 263,
   "id": "e6a5a4b5-3b82-4465-8b2a-85c232d1645e",
   "metadata": {},
   "outputs": [],
   "source": [
    "x=df.drop(['exam_score','hours_study','sleep_pattern','previous_scores_range','exam_range','exam_result','student_id'],axis=1)\n",
    "y=df['exam_score']"
   ]
  },
  {
   "cell_type": "code",
   "execution_count": 270,
   "id": "de558a5d-afa5-4a20-90cf-ba2662f927be",
   "metadata": {},
   "outputs": [
    {
     "data": {
      "text/plain": [
       "(200, 4)"
      ]
     },
     "execution_count": 270,
     "metadata": {},
     "output_type": "execute_result"
    }
   ],
   "source": [
    "x.shape"
   ]
  },
  {
   "cell_type": "code",
   "execution_count": 245,
   "id": "9bf8b0cc-7120-41fd-8f30-40be1c358a20",
   "metadata": {},
   "outputs": [
    {
     "data": {
      "text/plain": [
       "(200,)"
      ]
     },
     "execution_count": 245,
     "metadata": {},
     "output_type": "execute_result"
    }
   ],
   "source": [
    "y.shape"
   ]
  },
  {
   "cell_type": "code",
   "execution_count": 246,
   "id": "aa4b3c42-49af-4806-8c33-c0d86c533b8a",
   "metadata": {},
   "outputs": [],
   "source": [
    "from sklearn.model_selection import train_test_split\n",
    "from sklearn.metrics import accuracy_score,precision_score,confusion_matrix\n",
    "from sklearn.linear_model import LinearRegression, LogisticRegression, Ridge, Lasso\n",
    "from sklearn.tree import DecisionTreeRegressor\n",
    "from sklearn.ensemble import RandomForestRegressor, GradientBoostingRegressor\n",
    "from sklearn.metrics import mean_absolute_error, mean_squared_error, r2_score\n"
   ]
  },
  {
   "cell_type": "code",
   "execution_count": 247,
   "id": "bef600f2-b545-4fe6-b8ff-08ffe5e0dd19",
   "metadata": {},
   "outputs": [],
   "source": [
    "x_train,x_test,y_train,y_test=train_test_split(x,y,test_size=0.2, random_state=42)"
   ]
  },
  {
   "cell_type": "code",
   "execution_count": 250,
   "id": "d567d024-efc5-4b54-a071-441400967c7c",
   "metadata": {},
   "outputs": [
    {
     "name": "stdout",
     "output_type": "stream",
     "text": [
      "Linear Regression\n",
      "MAE: 2.3108582358958336\n",
      "rmse: 2.7859976074331216\n",
      "r2:0.8537447137159515\n",
      "\n",
      "\n",
      "Ridge\n",
      "MAE: 2.3118726541364536\n",
      "rmse: 2.7867883880330533\n",
      "r2:0.8536616754127868\n",
      "\n",
      "\n",
      "Lasso\n",
      "MAE: 2.5842101709028915\n",
      "rmse: 3.038139176336232\n",
      "r2:0.826073633650794\n",
      "\n",
      "\n",
      "Decison Tree Regressor\n",
      "MAE: 4.1125\n",
      "rmse: 4.932823734941276\n",
      "r2:0.5414979432863327\n",
      "\n",
      "\n",
      "Random Forest Regressor\n",
      "MAE: 2.8814250000000015\n",
      "rmse: 3.3060464568726213\n",
      "r2:0.7940470589842489\n",
      "\n",
      "\n",
      "Gradient Bossting Regressor\n",
      "MAE: 2.957235310378605\n",
      "rmse: 3.4920589184204878\n",
      "r2:0.7702194740594033\n",
      "\n",
      "\n"
     ]
    }
   ],
   "source": [
    "models={\n",
    "    'Linear Regression': LinearRegression(),\n",
    "    'Ridge': Ridge(),\n",
    "    'Lasso': Lasso(),\n",
    "    'Decison Tree Regressor': DecisionTreeRegressor(),\n",
    "    'Random Forest Regressor': RandomForestRegressor(),\n",
    "    'Gradient Bossting Regressor': GradientBoostingRegressor()\n",
    "}\n",
    "\n",
    "for name, model in models.items():\n",
    "    model.fit(x_train,y_train)\n",
    "    y_pred=model.predict(x_test)\n",
    "\n",
    "    mae=mean_absolute_error(y_test,y_pred)\n",
    "    rmse=np.sqrt(mean_squared_error(y_test,y_pred))\n",
    "    r2=r2_score(y_test,y_pred)\n",
    "\n",
    "    print(f'{name}')\n",
    "    print(f'MAE: {mae}')\n",
    "    print(f'rmse: {rmse}')\n",
    "    print(f'r2:{r2}')\n",
    "    print('\\n')\n",
    "    "
   ]
  },
  {
   "cell_type": "code",
   "execution_count": 265,
   "id": "6847a178-426b-46e4-827a-5b67476a23b6",
   "metadata": {},
   "outputs": [
    {
     "name": "stdout",
     "output_type": "stream",
     "text": [
      "R2 score of each fold [0.79847262 0.82686954 0.8552843  0.85676892 0.80607486]\n",
      "Average of R2 score 0.8286940493240357\n"
     ]
    }
   ],
   "source": [
    "from sklearn.model_selection import cross_val_score\n",
    "\n",
    "LR=LinearRegression()\n",
    "\n",
    "scores=cross_val_score(LR,x,y,cv=5,scoring='r2')\n",
    "\n",
    "print('R2 score of each fold',scores)\n",
    "print('Average of R2 score',scores.mean())"
   ]
  },
  {
   "cell_type": "code",
   "execution_count": 260,
   "id": "8e2f1134-d0d2-4d1c-a28c-bc921961c4d3",
   "metadata": {},
   "outputs": [
    {
     "data": {
      "image/png": "[encoded data removed]",
      "text/plain": [
       "<Figure size 864x432 with 1 Axes>"
      ]
     },
     "metadata": {
      "needs_background": "light"
     },
     "output_type": "display_data"
    }
   ],
   "source": [
    "import matplotlib.pyplot as plt\n",
    "import pandas as pd\n",
    "\n",
    "# Create a dataframe with your model results\n",
    "results = {\n",
    "    'Model': [\n",
    "        'Linear Regression',\n",
    "        'Ridge',\n",
    "        'Lasso',\n",
    "        'Decision Tree Regressor',\n",
    "        'Random Forest Regressor',\n",
    "        'Gradient Boosting Regressor'\n",
    "    ],\n",
    "    'MAE': [2.3108, 2.3118, 2.5842, 4.1125, 2.8814, 2.9572],\n",
    "    'RMSE': [2.7860, 2.7867, 3.0381, 4.9328, 3.3060, 3.4920],\n",
    "    'R2': [0.8537, 0.8536, 0.8260, 0.5414, 0.7940, 0.7702]\n",
    "}\n",
    "\n",
    "df_results = pd.DataFrame(results)\n",
    "\n",
    "# Plotting side-by-side bar charts\n",
    "plt.figure(figsize=(12,6))\n",
    "bar_width = 0.25\n",
    "x = range(len(df_results))\n",
    "\n",
    "plt.bar(x, df_results['MAE'], width=bar_width, label='MAE')\n",
    "plt.bar([i + bar_width for i in x], df_results['RMSE'], width=bar_width, label='RMSE')\n",
    "plt.bar([i + bar_width*2 for i in x], df_results['R2'], width=bar_width, label='R²')\n",
    "\n",
    "plt.xlabel('Models', fontsize=12)\n",
    "plt.ylabel('Scores', fontsize=12)\n",
    "plt.title('Model Performance Comparison', fontsize=14)\n",
    "plt.xticks([i + bar_width for i in x], df_results['Model'], rotation=45, ha='right')\n",
    "plt.legend()\n",
    "plt.tight_layout()\n",
    "plt.show()\n"
   ]
  },
  {
   "cell_type": "code",
   "execution_count": 267,
   "id": "6379238d-f4c3-41ed-a076-ffdc60b2bc8c",
   "metadata": {},
   "outputs": [
    {
     "data": {
      "text/html": [
       "<div>\n",
       "<style scoped>\n",
       "    .dataframe tbody tr th:only-of-type {\n",
       "        vertical-align: middle;\n",
       "    }\n",
       "\n",
       "    .dataframe tbody tr th {\n",
       "        vertical-align: top;\n",
       "    }\n",
       "\n",
       "    .dataframe thead th {\n",
       "        text-align: right;\n",
       "    }\n",
       "</style>\n",
       "<table border=\"1\" class=\"dataframe\">\n",
       "  <thead>\n",
       "    <tr style=\"text-align: right;\">\n",
       "      <th></th>\n",
       "      <th>student_id</th>\n",
       "      <th>hours_studied</th>\n",
       "      <th>sleep_hours</th>\n",
       "      <th>attendance_percent</th>\n",
       "      <th>previous_scores</th>\n",
       "      <th>exam_score</th>\n",
       "      <th>hours_study</th>\n",
       "      <th>sleep_pattern</th>\n",
       "      <th>previous_scores_range</th>\n",
       "      <th>exam_range</th>\n",
       "      <th>exam_result</th>\n",
       "    </tr>\n",
       "  </thead>\n",
       "  <tbody>\n",
       "    <tr>\n",
       "      <th>0</th>\n",
       "      <td>S001</td>\n",
       "      <td>8.0</td>\n",
       "      <td>8.8</td>\n",
       "      <td>72.1</td>\n",
       "      <td>45</td>\n",
       "      <td>30.2</td>\n",
       "      <td>7 to 9 hours</td>\n",
       "      <td>More than 7 hours</td>\n",
       "      <td>41 to 50: C2</td>\n",
       "      <td>21 to 32: E1</td>\n",
       "      <td>Passed</td>\n",
       "    </tr>\n",
       "    <tr>\n",
       "      <th>1</th>\n",
       "      <td>S002</td>\n",
       "      <td>1.3</td>\n",
       "      <td>8.6</td>\n",
       "      <td>60.7</td>\n",
       "      <td>55</td>\n",
       "      <td>25.0</td>\n",
       "      <td>1 to 3 hours</td>\n",
       "      <td>More than 7 hours</td>\n",
       "      <td>51 to 60: C1</td>\n",
       "      <td>21 to 32: E1</td>\n",
       "      <td>Passed</td>\n",
       "    </tr>\n",
       "    <tr>\n",
       "      <th>2</th>\n",
       "      <td>S003</td>\n",
       "      <td>4.0</td>\n",
       "      <td>8.2</td>\n",
       "      <td>73.7</td>\n",
       "      <td>86</td>\n",
       "      <td>35.8</td>\n",
       "      <td>4 to 6 hours</td>\n",
       "      <td>More than 7 hours</td>\n",
       "      <td>81 to 90: A2</td>\n",
       "      <td>33 to 40: D</td>\n",
       "      <td>Failed</td>\n",
       "    </tr>\n",
       "    <tr>\n",
       "      <th>3</th>\n",
       "      <td>S004</td>\n",
       "      <td>3.5</td>\n",
       "      <td>4.8</td>\n",
       "      <td>95.1</td>\n",
       "      <td>66</td>\n",
       "      <td>34.0</td>\n",
       "      <td>4 to 6 hours</td>\n",
       "      <td>4 to 5 hours</td>\n",
       "      <td>61 to 70: B2</td>\n",
       "      <td>33 to 40: D</td>\n",
       "      <td>Failed</td>\n",
       "    </tr>\n",
       "    <tr>\n",
       "      <th>4</th>\n",
       "      <td>S005</td>\n",
       "      <td>9.1</td>\n",
       "      <td>6.4</td>\n",
       "      <td>89.8</td>\n",
       "      <td>71</td>\n",
       "      <td>40.3</td>\n",
       "      <td>10 to 12 hours</td>\n",
       "      <td>6 to 7 hours</td>\n",
       "      <td>71 to 80: B1</td>\n",
       "      <td>41 to 50: C2</td>\n",
       "      <td>Failed</td>\n",
       "    </tr>\n",
       "  </tbody>\n",
       "</table>\n",
       "</div>"
      ],
      "text/plain": [
       "  student_id  hours_studied  sleep_hours  attendance_percent  previous_scores  \\\n",
       "0       S001            8.0          8.8                72.1               45   \n",
       "1       S002            1.3          8.6                60.7               55   \n",
       "2       S003            4.0          8.2                73.7               86   \n",
       "3       S004            3.5          4.8                95.1               66   \n",
       "4       S005            9.1          6.4                89.8               71   \n",
       "\n",
       "   exam_score     hours_study      sleep_pattern previous_scores_range  \\\n",
       "0        30.2    7 to 9 hours  More than 7 hours          41 to 50: C2   \n",
       "1        25.0    1 to 3 hours  More than 7 hours          51 to 60: C1   \n",
       "2        35.8    4 to 6 hours  More than 7 hours          81 to 90: A2   \n",
       "3        34.0    4 to 6 hours       4 to 5 hours          61 to 70: B2   \n",
       "4        40.3  10 to 12 hours       6 to 7 hours          71 to 80: B1   \n",
       "\n",
       "     exam_range exam_result  \n",
       "0  21 to 32: E1      Passed  \n",
       "1  21 to 32: E1      Passed  \n",
       "2   33 to 40: D      Failed  \n",
       "3   33 to 40: D      Failed  \n",
       "4  41 to 50: C2      Failed  "
      ]
     },
     "execution_count": 267,
     "metadata": {},
     "output_type": "execute_result"
    }
   ],
   "source": [
    "df.head(5)"
   ]
  },
  {
   "cell_type": "markdown",
   "id": "00550a29-18a1-4e4e-a35a-7843eaabe1f8",
   "metadata": {},
   "source": [
    "### Predicting the New Exam Scores by giving the Random Input"
   ]
  },
  {
   "cell_type": "code",
   "execution_count": 273,
   "id": "d826efee-aae7-4aa0-be40-f4c0b884c2e8",
   "metadata": {},
   "outputs": [
    {
     "name": "stdout",
     "output_type": "stream",
     "text": [
      "Predicted Exam Score by the Models: [31.68946129]\n"
     ]
    }
   ],
   "source": [
    "LR=LinearRegression()\n",
    "LR.fit(x,y)\n",
    "\n",
    "new_data=pd.DataFrame({\n",
    "    'hours_studied':[5],\n",
    "    'sleep_hours':[6],\n",
    "    'attendance_percent':[65],\n",
    "    'previous_scores':[75]\n",
    "})\n",
    "\n",
    "predicted_score=LR.predict(new_data)\n",
    "print(f'Predicted Exam Score by the Models: {predicted_score}')\n"
   ]
  },
  {
   "cell_type": "code",
   "execution_count": null,
   "id": "756ff678-3fac-409c-b45e-1f9291264a44",
   "metadata": {},
   "outputs": [],
   "source": []
  }
 ],
 "metadata": {
  "kernelspec": {
   "display_name": "Python 3 (ipykernel)",
   "language": "python",
   "name": "python3"
  },
  "language_info": {
   "codemirror_mode": {
    "name": "ipython",
    "version": 3
   },
   "file_extension": ".py",
   "mimetype": "text/x-python",
   "name": "python",
   "nbconvert_exporter": "python",
   "pygments_lexer": "ipython3",
   "version": "3.9.7"
  }
 },
 "nbformat": 4,
 "nbformat_minor": 5
}
